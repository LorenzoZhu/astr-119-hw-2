{
 "cells": [
  {
   "cell_type": "code",
   "execution_count": null,
   "metadata": {},
   "outputs": [],
   "source": [
    "%matplotlib inline\n",
    "#import np and matplot\n",
    "import numpy as np\n",
    "import matplotlib.pyplot as plt"
   ]
  },
  {
   "cell_type": "code",
   "execution_count": null,
   "metadata": {},
   "outputs": [],
   "source": [
    "#define x as a array from 0 to 2*pi and processes 1000 values\n",
    "n = 1000\n",
    "x = np.arange(n,dtype=float)\n",
    "x *= 2.0*np.pi/float(n-1)"
   ]
  },
  {
   "cell_type": "code",
   "execution_count": null,
   "metadata": {},
   "outputs": [],
   "source": [
    "#define limits for x and y axis \n",
    "plt.xlim(0,2*np.pi)\n",
    "plt.ylim(-1,10)\n",
    "#label the x and y axis\n",
    "plt.ylabel(\"Measures of Awesomeness\")\n",
    "plt.xlabel(\"Time in ASTR 119\")\n",
    "#define three functions\n",
    "y = 5.5* np.cos(2 * x) + 5.5\n",
    "w = 0.02 * np.exp( x )\n",
    "z = 0.25 * x*x + 0.1*np.sin (10 * x)\n",
    "#polt the three functions in one plot\n",
    "plt.plot(x, y)\n",
    "plt.plot(x, z)\n",
    "plt.plot(x, w)"
   ]
  }
 ],
 "metadata": {
  "kernelspec": {
   "display_name": "Python 3",
   "language": "python",
   "name": "python3"
  },
  "language_info": {
   "codemirror_mode": {
    "name": "ipython",
    "version": 3
   },
   "file_extension": ".py",
   "mimetype": "text/x-python",
   "name": "python",
   "nbconvert_exporter": "python",
   "pygments_lexer": "ipython3",
   "version": "3.4.6"
  }
 },
 "nbformat": 4,
 "nbformat_minor": 2
}
